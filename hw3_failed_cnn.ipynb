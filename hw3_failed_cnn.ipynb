{
 "cells": [
  {
   "cell_type": "markdown",
   "metadata": {},
   "source": [
    "# Классификация текстов с активным обучением\n",
    "\n",
    "\n",
    "Зададимся простой задачей классификации текстов: например, классификацией отзывов на банки по тональности. Эта задача решается с достаточно высокими показателями качества с использованием стандартных алгоритмов классификации, например, сверточных нейронных сетей: корпус состоит из достаточного количества документов, чтобы сверточная сеть хорошо обучилась. Однако возникает естественный вопрос: действительно ли все документы нужны для того, чтобы достичь таких высоких показателей качества (или сопоставимых с ними). Парадигма активного обучения поможет вам ответить на этот вопрос."
   ]
  },
  {
   "cell_type": "markdown",
   "metadata": {},
   "source": [
    "## Часть 1. Предобработка данных [2 балла]\n",
    "\n",
    "Коллекция отзывов хранится в файле banki_responses (https://www.dropbox.com/s/ol3ux3ibr6rd5ke/banki_responses.json.bz2?dl=0). Одна строчка в этом файле соответствует одному json-словарю. Из этого словаря вам понадобятся два значения по ключам text и rating -- текст отзыва и его оценка по шкале от 1 до 5.   \n",
    "\n",
    "Считайте файл. Посчитайте, каких отзывов больше: положительных или отрицательных? \n",
    "\n",
    "Проведите предварительную обработку данных: удалите слишком короткие и слишком длинные тексты (пороги на длину определите самостоятельно). \n",
    "\n",
    "Разбейте данные на обучающее ($train$) и тестовое ($test$) множество случайным образом в отношеннии 3:1 (или любом другом отношении, которое покажется вам разумным). \n",
    "\n",
    "Задача классификации сформулирована так: по каждому отзыву определить его оценку (т.е. классификация на 5 классов). Признаками для классификации выступают слова."
   ]
  },
  {
   "cell_type": "code",
   "execution_count": 1,
   "metadata": {},
   "outputs": [
    {
     "name": "stdout",
     "output_type": "stream",
     "text": [
      "136189\n"
     ]
    },
    {
     "data": {
      "image/png": "[encoded data removed]",
      "text/plain": [
       "<matplotlib.figure.Figure at 0x110a62d68>"
      ]
     },
     "metadata": {},
     "output_type": "display_data"
    }
   ],
   "source": [
    "import json\n",
    "import matplotlib.pyplot as plt\n",
    "import numpy as np\n",
    "%matplotlib inline\n",
    "\n",
    "texts = []\n",
    "grades = []\n",
    "with open('./banki_responses.json', 'r') as f:\n",
    "    for line in f:\n",
    "        parsed = json.loads(line.strip())\n",
    "        if parsed['rating_grade'] is not None: # delete responses without grade\n",
    "            texts.append(parsed['text'])\n",
    "            grades.append(parsed['rating_grade'])\n",
    "texts = np.array(texts)\n",
    "grades = np.array(grades)\n",
    "print(len(texts))\n",
    "plt.hist(grades, 5)\n",
    "plt.show()"
   ]
  },
  {
   "cell_type": "code",
   "execution_count": 2,
   "metadata": {},
   "outputs": [
    {
     "name": "stdout",
     "output_type": "stream",
     "text": [
      "92235 32252\n"
     ]
    }
   ],
   "source": [
    "print(len(grades[grades < 3]), len(grades[grades > 3]))"
   ]
  },
  {
   "cell_type": "markdown",
   "metadata": {
    "collapsed": true
   },
   "source": [
    "> Видно, что негативные отзывы преобладают почти в три раза"
   ]
  },
  {
   "cell_type": "code",
   "execution_count": 3,
   "metadata": {},
   "outputs": [
    {
     "data": {
      "image/png": "[encoded data removed]",
      "text/plain": [
       "<matplotlib.figure.Figure at 0x110a3af28>"
      ]
     },
     "metadata": {},
     "output_type": "display_data"
    }
   ],
   "source": [
    "plt.hist(list(map(len, texts)), bins=100)\n",
    "plt.show()"
   ]
  },
  {
   "cell_type": "markdown",
   "metadata": {},
   "source": [
    "> отсечем тексты, длины которых находятся после 90-перцентили и до 10-перцентили, тем самым оставив 80% выборки"
   ]
  },
  {
   "cell_type": "code",
   "execution_count": 4,
   "metadata": {},
   "outputs": [
    {
     "name": "stdout",
     "output_type": "stream",
     "text": [
      "472.0 2913.0\n"
     ]
    }
   ],
   "source": [
    "from scipy.stats.mstats import mquantiles\n",
    "texts_lens = np.array(list(map(len, texts)))\n",
    "low, high = mquantiles(texts_lens, [0.1, 0.9])\n",
    "print(low, high)"
   ]
  },
  {
   "cell_type": "code",
   "execution_count": 5,
   "metadata": {},
   "outputs": [
    {
     "data": {
      "text/plain": [
       "109017"
      ]
     },
     "execution_count": 5,
     "metadata": {},
     "output_type": "execute_result"
    }
   ],
   "source": [
    "mask = (texts_lens >= low) & (texts_lens <= high)\n",
    "texts = texts[mask]\n",
    "grades = grades[mask]\n",
    "len(texts)"
   ]
  },
  {
   "cell_type": "markdown",
   "metadata": {},
   "source": [
    "## Часть 2. Baseline [4 балла]\n",
    "\n",
    "Получите baseline классификации: в идеале, используйте сверточную нейронную сеть (слой эмбеддингов + свертка + субдескритизация). Число и размерность фильтров определите самостоятельно, так же как и использование регуляризаторов (dropout / batch norm) и их параметров. Так же самостоятельно (но обосновано) решите, использовать ли вам предобученные эмбеддинги или нет и проводить ли вам лемматизацию или нет. \n",
    "\n",
    "Обучите сеть на обучающем множестве и протестируйте на тестовом. Зафиксируйте baseline.\n",
    "\n",
    "Если совсем трудно или вычисления занимают слишком много времени, используйте любой другой известный и симпатичный вам алгоритм классификации. "
   ]
  },
  {
   "cell_type": "code",
   "execution_count": 6,
   "metadata": {
    "collapsed": true
   },
   "outputs": [],
   "source": [
    "# cleaning\n",
    "import stop_words\n",
    "ru_stop_words = stop_words.get_stop_words('russian')\n",
    "import re\n",
    "rewords = re.compile('[а-яА-ЯёЁ]+')\n",
    "clean = lambda word : word not in ru_stop_words\n",
    "lower = lambda word : word.lower()\n",
    "\n",
    "words = np.array(list(map(lambda text: list(filter(clean, map(lower, rewords.findall(text)))), texts)))\n",
    "words_len = np.array(list(map(len, words)))\n",
    "\n",
    "mask = words_len > 0\n",
    "words = words[mask]\n",
    "grades = grades[mask]\n",
    "MAX_WORDS = words_len.max()"
   ]
  },
  {
   "cell_type": "code",
   "execution_count": 7,
   "metadata": {
    "collapsed": true
   },
   "outputs": [],
   "source": [
    "import fastText\n",
    "embeddings_model = fastText.load_model('./wiki.ru.bin')\n",
    "DIM = embeddings_model.get_dimension()\n",
    "\n",
    "def get_embeddings(words):\n",
    "    return np.array(list(map(lambda word : embeddings_model.get_word_vector(word), words)))"
   ]
  },
  {
   "cell_type": "code",
   "execution_count": 8,
   "metadata": {},
   "outputs": [
    {
     "data": {
      "text/plain": [
       "(109015,)"
      ]
     },
     "execution_count": 8,
     "metadata": {},
     "output_type": "execute_result"
    }
   ],
   "source": [
    "embeddings = np.array(list(map(get_embeddings, words)))\n",
    "embeddings.shape"
   ]
  },
  {
   "cell_type": "code",
   "execution_count": 10,
   "metadata": {},
   "outputs": [
    {
     "name": "stderr",
     "output_type": "stream",
     "text": [
      "/Users/tkhismatullin/anaconda3/lib/python3.6/site-packages/h5py/__init__.py:34: FutureWarning: Conversion of the second argument of issubdtype from `float` to `np.floating` is deprecated. In future, it will be treated as `np.float64 == np.dtype(float).type`.\n",
      "  from ._conv import register_converters as _register_converters\n",
      "Using TensorFlow backend.\n"
     ]
    }
   ],
   "source": [
    "import keras\n",
    "from keras.optimizers import Adam\n",
    "from keras.layers import Dense\n",
    "from keras.models import Sequential\n",
    "from keras.layers import Conv1D\n",
    "from keras.layers import MaxPooling1D\n",
    "from keras.layers import GlobalAveragePooling1D"
   ]
  },
  {
   "cell_type": "code",
   "execution_count": 38,
   "metadata": {
    "collapsed": true,
    "scrolled": true
   },
   "outputs": [],
   "source": [
    "NUM_CLASSES = 5\n",
    "BATCH_SIZE = 64\n",
    "def build_model():\n",
    "    model = Sequential()\n",
    "    model.add(Conv1D(32, 3, activation='relu', input_shape=(MAX_WORDS, DIM)))\n",
    "    model.add(MaxPooling1D(2))\n",
    "    model.add(Conv1D(64, 3, activation='relu'))\n",
    "    model.add(MaxPooling1D(2))\n",
    "    model.add(Conv1D(128, 3, activation='relu'))\n",
    "    model.add(MaxPooling1D(2))\n",
    "    model.add(Conv1D(128, 3, activation='relu'))\n",
    "    model.add(GlobalAveragePooling1D())\n",
    "    model.add(Dense(128, activation='relu'))\n",
    "    model.add(Dense(NUM_CLASSES, activation='softmax'))\n",
    "    return model\n",
    "baseline_model = build_model()\n",
    "baseline_model.compile(loss='sparse_categorical_crossentropy', optimizer = 'adam', metrics = ['accuracy'])"
   ]
  },
  {
   "cell_type": "code",
   "execution_count": 12,
   "metadata": {
    "collapsed": true
   },
   "outputs": [],
   "source": [
    "from sklearn.model_selection import train_test_split\n",
    "test_size = 0.25\n",
    "X_train, X_test, y_train, y_test = train_test_split(embeddings, grades-1, test_size=test_size, shuffle=True, stratify=grades)"
   ]
  },
  {
   "cell_type": "code",
   "execution_count": 49,
   "metadata": {
    "collapsed": true
   },
   "outputs": [],
   "source": [
    "def add_zeros_to_batch(embdeggings, targets, batch_size):\n",
    "    batch_x = []\n",
    "    batch_y = []\n",
    "    for i, e in enumerate(embdeggings):\n",
    "        batch_x.append(np.append(e, np.zeros((MAX_WORDS - e.shape[0]) * DIM).reshape(-1, DIM), axis=0))\n",
    "        batch_y.append(targets[i])\n",
    "        if len(batch_x) == batch_size:\n",
    "            yield np.array(batch_x), np.array(batch_y)\n",
    "            batch_x.clear()\n",
    "            batch_y.clear()\n",
    "#     if len(batch_x) > 0:\n",
    "#         yield np.array(batch_x), batch_y"
   ]
  },
  {
   "cell_type": "code",
   "execution_count": 50,
   "metadata": {
    "scrolled": false
   },
   "outputs": [
    {
     "name": "stdout",
     "output_type": "stream",
     "text": [
      "Epoch 1/1\n",
      "1277/1277 [==============================] - 299s 234ms/step - loss: 0.9523 - acc: 0.6639\n"
     ]
    },
    {
     "data": {
      "text/plain": [
       "<keras.callbacks.History at 0x17389ee10>"
      ]
     },
     "execution_count": 50,
     "metadata": {},
     "output_type": "execute_result"
    }
   ],
   "source": [
    "baseline_model.fit_generator(add_zeros_to_batch(X_train, y_train, BATCH_SIZE), \n",
    "                             steps_per_epoch= len(X_train) // BATCH_SIZE)"
   ]
  },
  {
   "cell_type": "code",
   "execution_count": 69,
   "metadata": {},
   "outputs": [
    {
     "name": "stdout",
     "output_type": "stream",
     "text": [
      "0.6863703705646373\n"
     ]
    }
   ],
   "source": [
    "TEST_BATCH_SIZE = 1000\n",
    "_, accuracy = baseline_model.evaluate_generator(add_zeros_to_batch(X_test, y_test, TEST_BATCH_SIZE), \n",
    "                                                steps= len(X_test) // TEST_BATCH_SIZE)\n",
    "print(accuracy)"
   ]
  },
  {
   "cell_type": "markdown",
   "metadata": {},
   "source": [
    "---\n",
    "# Baseline: 0.6863 accuracy\n",
    "---"
   ]
  },
  {
   "cell_type": "markdown",
   "metadata": {},
   "source": [
    "## Часть 3. Baseline [4 балла] Активное обучение\n",
    "\n",
    "Подход активного обучения основан на следующей идее: вместо всего обучающего множества мы используем его маленькие фрагменты, в которых модель неуверена для обучения. Таким образом, модель обучается исключительно по **трудным** объектам, число которых существенно меньше, чем общее число объектов.\n",
    "\n",
    "Обучение модели начинается с обучения по $N$ случайно выбранным примерам, где $N$ – небольшое число (100, 200 и т.д.). Затем модель тестируется на $|train| - N$ объектах, после чего из  $|train| - N$ объектов выбираются снова $N$  объектов, в которых модель не уверена. Эти объекты используются для дообучения модели. Процесс выбора $N$ трудных объектов и дообучения на них повторяется некоторое количество раз (100, 200 и т.д. раз). На каждом шаге активного обучения модель можно протестировать на тестовом множестве, чтобы сравнить ее качества с baseline.\n",
    "\n",
    "Как выбирать трудные объекты:\n",
    "1. Выход нейронной сети - оценки 5 вероятностей принадлежности объекта одному из классов. Предсказанный класс – это тот класс, вероятность которого максимальна. Отсортируем объекты по убыванию вероятности предсказанного класса ($\\min \\max p_i$) и выберем $N$ первых объектов;\n",
    "2. Используем энтропию: чем больше энтропия предсказания, тем ближе распределение вероятностей предсказания к равномерному распределению, тем труднее объект. "
   ]
  },
  {
   "cell_type": "code",
   "execution_count": 70,
   "metadata": {
    "collapsed": true
   },
   "outputs": [],
   "source": [
    "AL_BATCH_SIZE = 256\n",
    "KERAS_BATCH_SIZE = 32\n",
    "N_STEPS = 100\n",
    "active_learning_model = build_model()\n",
    "active_learning_model.compile(loss='sparse_categorical_crossentropy', optimizer = 'adam', metrics = ['accuracy'])"
   ]
  },
  {
   "cell_type": "code",
   "execution_count": null,
   "metadata": {
    "scrolled": false
   },
   "outputs": [
    {
     "name": "stdout",
     "output_type": "stream",
     "text": [
      "Epoch 1/1\n",
      "8/8 [==============================] - 1s 96ms/step - loss: 1.3179 - acc: 0.5664\n",
      "Epoch 1/1\n",
      "8/8 [==============================] - 1s 99ms/step - loss: 1.5021 - acc: 0.3359\n",
      "Step 1: accuracy on test 0.5341\n",
      "Epoch 1/1\n",
      "8/8 [==============================] - 1s 102ms/step - loss: 1.4725 - acc: 0.2383\n",
      "Step 2: accuracy on test 0.1883\n",
      "Epoch 1/1\n",
      "8/8 [==============================] - 1s 117ms/step - loss: 1.4323 - acc: 0.2227\n",
      "Step 3: accuracy on test 0.1883\n",
      "Epoch 1/1\n",
      "8/8 [==============================] - 1s 100ms/step - loss: 1.3766 - acc: 0.4375\n",
      "Step 4: accuracy on test 0.5341\n",
      "Epoch 1/1\n",
      "8/8 [==============================] - 1s 175ms/step - loss: 1.4676 - acc: 0.2734\n",
      "Step 5: accuracy on test 0.5341\n",
      "Epoch 1/1\n",
      "8/8 [==============================] - 1s 104ms/step - loss: 1.4324 - acc: 0.1836\n",
      "Step 6: accuracy on test 0.1883\n",
      "Epoch 1/1\n",
      "8/8 [==============================] - 1s 93ms/step - loss: 1.3835 - acc: 0.4766\n",
      "Step 7: accuracy on test 0.1883\n",
      "Epoch 1/1\n",
      "8/8 [==============================] - 2s 194ms/step - loss: 1.4504 - acc: 0.3047\n",
      "Step 8: accuracy on test 0.1883\n",
      "Epoch 1/1\n",
      "8/8 [==============================] - 1s 109ms/step - loss: 1.5426 - acc: 0.1992\n",
      "Step 9: accuracy on test 0.1883\n",
      "Epoch 1/1\n",
      "8/8 [==============================] - 1s 114ms/step - loss: 1.5002 - acc: 0.2227\n",
      "Step 10: accuracy on test 0.5341\n",
      "Epoch 1/1\n",
      "8/8 [==============================] - 1s 113ms/step - loss: 1.4523 - acc: 0.3320\n",
      "Step 11: accuracy on test 0.5341\n",
      "Epoch 1/1\n",
      "8/8 [==============================] - 1s 91ms/step - loss: 1.3945 - acc: 0.3750\n",
      "Step 12: accuracy on test 0.5341\n",
      "Epoch 1/1\n",
      "8/8 [==============================] - 1s 97ms/step - loss: 1.4049 - acc: 0.4766\n",
      "Step 13: accuracy on test 0.5341\n",
      "Epoch 1/1\n",
      "8/8 [==============================] - 2s 192ms/step - loss: 1.4359 - acc: 0.3828\n",
      "Step 14: accuracy on test 0.5341\n",
      "Epoch 1/1\n",
      "8/8 [==============================] - 1s 90ms/step - loss: 1.3499 - acc: 0.3828\n",
      "Step 15: accuracy on test 0.5341\n",
      "Epoch 1/1\n",
      "8/8 [==============================] - 1s 134ms/step - loss: 1.4215 - acc: 0.3086\n",
      "Step 16: accuracy on test 0.5341\n",
      "Epoch 1/1\n",
      "8/8 [==============================] - 1s 109ms/step - loss: 1.4849 - acc: 0.3828\n",
      "Step 17: accuracy on test 0.5341\n",
      "Epoch 1/1\n",
      "8/8 [==============================] - 1s 106ms/step - loss: 1.4418 - acc: 0.2734\n",
      "Step 18: accuracy on test 0.5407\n",
      "Epoch 1/1\n",
      "8/8 [==============================] - 1s 107ms/step - loss: 1.4327 - acc: 0.3125\n",
      "Step 19: accuracy on test 0.1883\n",
      "Epoch 1/1\n",
      "8/8 [==============================] - 1s 100ms/step - loss: 1.4909 - acc: 0.2734\n",
      "Step 20: accuracy on test 0.5341\n",
      "Epoch 1/1\n",
      "8/8 [==============================] - 1s 98ms/step - loss: 1.4659 - acc: 0.4375\n",
      "Step 21: accuracy on test 0.5341\n",
      "Epoch 1/1\n",
      "8/8 [==============================] - 1s 97ms/step - loss: 1.4910 - acc: 0.3555\n",
      "Step 22: accuracy on test 0.5341\n",
      "Epoch 1/1\n",
      "8/8 [==============================] - 1s 105ms/step - loss: 1.5642 - acc: 0.2812\n",
      "Step 23: accuracy on test 0.5341\n",
      "Epoch 1/1\n",
      "8/8 [==============================] - 1s 92ms/step - loss: 1.5889 - acc: 0.2539\n",
      "Step 24: accuracy on test 0.5341\n",
      "Epoch 1/1\n",
      "8/8 [==============================] - 1s 95ms/step - loss: 1.2954 - acc: 0.5469\n",
      "Step 25: accuracy on test 0.5341\n",
      "Epoch 1/1\n",
      "8/8 [==============================] - 1s 90ms/step - loss: 1.2833 - acc: 0.4883\n",
      "Step 26: accuracy on test 0.5341\n",
      "Epoch 1/1\n",
      "8/8 [==============================] - 1s 95ms/step - loss: 1.2301 - acc: 0.3125\n",
      "Step 27: accuracy on test 0.1883\n",
      "Epoch 1/1\n",
      "8/8 [==============================] - 1s 80ms/step - loss: 1.3999 - acc: 0.2891\n",
      "Step 28: accuracy on test 0.5341\n",
      "Epoch 1/1\n",
      "8/8 [==============================] - 1s 78ms/step - loss: 1.2813 - acc: 0.3008\n",
      "Step 29: accuracy on test 0.5341\n",
      "Epoch 1/1\n",
      "8/8 [==============================] - 1s 79ms/step - loss: 1.3089 - acc: 0.5000\n",
      "Step 30: accuracy on test 0.5341\n",
      "Epoch 1/1\n",
      "8/8 [==============================] - 1s 82ms/step - loss: 1.2430 - acc: 0.6211\n",
      "Step 31: accuracy on test 0.5341\n"
     ]
    }
   ],
   "source": [
    "remaining_samples = np.arange(len(X_train))\n",
    "chosen = np.random.choice(remaining_samples, AL_BATCH_SIZE, replace=False)\n",
    "remaining_samples = remaining_samples[~np.isin(remaining_samples, chosen)]\n",
    "\n",
    "\n",
    "active_learning_model.fit_generator(add_zeros_to_batch(X_train[chosen], y_train[chosen], KERAS_BATCH_SIZE), \n",
    "                                 steps_per_epoch= AL_BATCH_SIZE // KERAS_BATCH_SIZE)\n",
    "\n",
    "accuracies = [active_learning_model.evaluate_generator(add_zeros_to_batch(X_test, y_test, TEST_BATCH_SIZE),\n",
    "                                                steps= len(X_test) // TEST_BATCH_SIZE,\n",
    "                                                workers=8)[1]]\n",
    "for step in range(N_STEPS):\n",
    "    # predict on train\n",
    "    predicted = active_learning_model.predict_generator(\n",
    "        add_zeros_to_batch(X_train[remaining_samples], y_train[remaining_samples], KERAS_BATCH_SIZE), \n",
    "        steps= len(remaining_samples) // KERAS_BATCH_SIZE,\n",
    "        workers=8)\n",
    "    \n",
    "    # get max predicted probability on each case\n",
    "    predicted_max = predicted.max(axis=1)\n",
    "    # get batch with the least max probability\n",
    "    batch_mask = remaining_samples[predicted_max.argsort()[:AL_BATCH_SIZE]]\n",
    "    # fit model\n",
    "    active_learning_model.fit_generator(add_zeros_to_batch(X_train[batch_mask], y_train[batch_mask], KERAS_BATCH_SIZE), \n",
    "                                 steps_per_epoch= AL_BATCH_SIZE // KERAS_BATCH_SIZE)\n",
    "    # delete trat samples from train\n",
    "    remaining_samples = remaining_samples[~np.isin(remaining_samples, batch_mask)]\n",
    "    \n",
    "    acc = active_learning_model.evaluate_generator(add_zeros_to_batch(X_test, y_test, TEST_BATCH_SIZE), \n",
    "                                                    steps=len(X_test) // TEST_BATCH_SIZE, \n",
    "                                                   workers=8)[1]\n",
    "    accuracies.append(acc)\n",
    "    print('Step %d: accuracy on test %.4f' % (step + 1, acc))"
   ]
  },
  {
   "cell_type": "markdown",
   "metadata": {},
   "source": [
    "# См hw3_fully_connected"
   ]
  }
 ],
 "metadata": {
  "kernelspec": {
   "display_name": "Python 3",
   "language": "python",
   "name": "python3"
  },
  "language_info": {
   "codemirror_mode": {
    "name": "ipython",
    "version": 3
   },
   "file_extension": ".py",
   "mimetype": "text/x-python",
   "name": "python",
   "nbconvert_exporter": "python",
   "pygments_lexer": "ipython3",
   "version": "3.6.3"
  }
 },
 "nbformat": 4,
 "nbformat_minor": 2
}
