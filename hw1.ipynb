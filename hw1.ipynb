{
 "cells": [
  {
   "cell_type": "markdown",
   "metadata": {},
   "source": [
    "# Автоматическая обработка текстов \n",
    "## Домашнее задание 1 [10 баллов] до 23:59 15.03.2018\n",
    "\n",
    "В этом домашнем задании вам потребуется написать генератор описания прогноза погоды на следующую неделю в каком-нибудь городе. Домашнее задание состоит из трех частей:\n",
    "1. Скачивание данных о состоянии погоды в городе \n",
    "2. Генерация описания прогноза\n",
    "3. Творческая часть\n",
    "\n",
    "Все три части можно считать независимыми – вы можете сделать одну или две из них, однако мы настоятельно советуем выполнить все три. Все инструкции по выполнению домашнего задания – ниже. \n",
    "\n"
   ]
  },
  {
   "cell_type": "markdown",
   "metadata": {},
   "source": [
    "### 1. Сбор данных [3 балла]\n",
    "\n",
    "\n",
    "Пример: прогноз на 10 ближайших дней в Москве – https://www.gismeteo.ru/weather-moscow-4368/10-days/\n",
    "\n",
    "Используя известные вам библиотеки для работы с протоколом http и html кодом, извлеките прогноз на ближайшие 10 дней, начиная со дня, когда вы начали делать домашнее задание, с любого сервиса с прогнозом погоды или используя его API.\n",
    "Примеры сервисов:\n",
    "* gismeteo.ru, https://www.gismeteo.ru/api/ – Gismeteo, API Gismeteo \n",
    "* https://tech.yandex.ru/weather/ – API Yandex.Погоды\n",
    "* https://sinoptik.com.ru – Sinoptik\n",
    "* любой другой \n",
    "\n",
    "Резльтатом сбора данных должна быть таблица со следующими строками:\n",
    "* минимальная температура\n",
    "* максимальная температура\n",
    "* скорость ветра\n",
    "* уровень осадков \n",
    "\n",
    "В столбцах таблицы должны быть даты и дни недели.  Пример итоговой таблицы вы найдете в следующей части задания. "
   ]
  },
  {
   "cell_type": "markdown",
   "metadata": {},
   "source": [
    ">Решено было работать с сервисом погоды от Яндекса. В качестве инструмента по извлечению данных использовалась библиотека BeautifulSoup для парсинга html страниц. Мы посчитали, что данный способ получения информации о погоде наиболее универсальный, позволяет не привязываться к фиксированному api и при желании быстро изменить место получения необходимых данных."
   ]
  },
  {
   "cell_type": "code",
   "execution_count": 55,
   "metadata": {},
   "outputs": [],
   "source": [
    "import requests\n",
    "from bs4 import BeautifulSoup\n",
    "import random"
   ]
  },
  {
   "cell_type": "markdown",
   "metadata": {},
   "source": [
    ">Изначально загрузим саму html страницу и извлечем из нее дни даты."
   ]
  },
  {
   "cell_type": "code",
   "execution_count": 56,
   "metadata": {},
   "outputs": [],
   "source": [
    "def get_nodes_text(soup, node_type, node_name):\n",
    "    return list(map(lambda x: x.text, soup.find_all(node_type, node_name)))"
   ]
  },
  {
   "cell_type": "code",
   "execution_count": 57,
   "metadata": {},
   "outputs": [],
   "source": [
    "site_content = requests.get('https://yandex.ru/pogoda/moscow/details')\n",
    "soup = BeautifulSoup(site_content.text, 'html.parser')"
   ]
  },
  {
   "cell_type": "code",
   "execution_count": 58,
   "metadata": {},
   "outputs": [
    {
     "name": "stdout",
     "output_type": "stream",
     "text": [
      "['сегодня', 'завтра', 'пятница', 'суббота', 'воскресенье', 'понедельник', 'вторник', 'среда', 'четверг', 'пятница'] ['14', '15', '16', '17', '18', '19', '20', '21', '22', '23'] ['марта', 'марта', 'марта', 'марта', 'марта', 'марта', 'марта', 'марта', 'марта', 'марта']\n"
     ]
    }
   ],
   "source": [
    "names = get_nodes_text(soup, 'span', 'forecast-details__day-name')\n",
    "days = get_nodes_text(soup, 'strong', 'forecast-details__day-number')\n",
    "months = get_nodes_text(soup, 'span', 'forecast-details__day-month')\n",
    "print(names, days, months)"
   ]
  },
  {
   "cell_type": "markdown",
   "metadata": {},
   "source": [
    ">Теперь можно и о погоде подумать."
   ]
  },
  {
   "cell_type": "code",
   "execution_count": 59,
   "metadata": {},
   "outputs": [],
   "source": [
    "full_information_list = soup.find_all('tbody', 'weather-table__body')"
   ]
  },
  {
   "cell_type": "markdown",
   "metadata": {},
   "source": [
    ">В процессе получения значения температур мы столкнулись с проблемой, которая встречается при работе со многими сервисами от Яндекса, а именно разными кодировками. Просто так переконвертировать значения не вышло, пришлось применить не совсем красивый и удобный подход по обработки целых чисел."
   ]
  },
  {
   "cell_type": "code",
   "execution_count": 60,
   "metadata": {},
   "outputs": [],
   "source": [
    "def get_temperature_as_int(temperature):\n",
    "    #if temperature is zero\n",
    "    if len(temperature) == 1:\n",
    "        return int(temperature)\n",
    "    \n",
    "    value = int(temperature[1:])\n",
    "    if temperature[0] == '−':\n",
    "        value = value * -1\n",
    "    return value"
   ]
  },
  {
   "cell_type": "code",
   "execution_count": 61,
   "metadata": {},
   "outputs": [],
   "source": [
    "def get_temperatures(tag):\n",
    "    temp_spans = tag.find_all('td', 'weather-table__body-cell_type_daypart')\n",
    "    temperatures = []\n",
    "    for temp in temp_spans:\n",
    "        temperatures.extend(get_nodes_text(temp, 'span', 'temp__value'))\n",
    "    return list(map(get_temperature_as_int, temperatures))"
   ]
  },
  {
   "cell_type": "code",
   "execution_count": 62,
   "metadata": {},
   "outputs": [],
   "source": [
    "def get_wind_speed(tag):\n",
    "    values = get_nodes_text(tag, 'span', 'wind-speed')\n",
    "    values = list(map(lambda x: x.replace(',', '.'), values))\n",
    "    values = list(map(float, values))\n",
    "    return float(format(sum(values) / len(values), '.2f'))"
   ]
  },
  {
   "cell_type": "code",
   "execution_count": 63,
   "metadata": {},
   "outputs": [],
   "source": [
    "def get_pressure(tag):\n",
    "    values = get_nodes_text(tag, 'td', 'weather-table__body-cell_type_air-pressure')\n",
    "    values = list(map(int, values))\n",
    "    return int(sum(values) / len(values))"
   ]
  },
  {
   "cell_type": "code",
   "execution_count": 64,
   "metadata": {},
   "outputs": [
    {
     "name": "stdout",
     "output_type": "stream",
     "text": [
      "[-5, -13, -19, -20, -14, -9, -7, -7, -8, -7] [0, -3, -9, -11, -6, -2, -1, -3, -4, -3] [5.08, 4.45, 3.73, 2.83, 2.58, 2.5, 1.38, 2.07, 1.27, 1.75] [741, 739, 744, 748, 750, 743, 743, 744, 743, 744]\n"
     ]
    }
   ],
   "source": [
    "min_temp = list(map(min, map(get_temperatures, full_information_list)))\n",
    "max_temp = list(map(max, map(get_temperatures, full_information_list)))\n",
    "wind_speed = list(map(get_wind_speed, full_information_list))\n",
    "pressure = list(map(get_pressure, full_information_list))\n",
    "print(min_temp, max_temp, wind_speed, pressure)"
   ]
  },
  {
   "cell_type": "markdown",
   "metadata": {},
   "source": [
    "### 2. Генератор описания прогноза погоды [4 балла]\n",
    "\n",
    "Если у вас не получилось извлечь прогноз погоды в предыдущей части задания, воспользуйтесь таблицей ниже.\n",
    "В ней приведен прогноз четырех показателей на первые 10 дней февраля в Москве – минимальная и максимальная температура, скорость ветра и уровень осадков. "
   ]
  },
  {
   "cell_type": "markdown",
   "metadata": {},
   "source": [
    ">У нас все же получилось добыть прогноз погоды, но, за неимением данных об уровне осадков, пришлось использовать альтернативную информацию, а именно показания Давления."
   ]
  },
  {
   "cell_type": "code",
   "execution_count": 65,
   "metadata": {},
   "outputs": [],
   "source": [
    "def build_row_cell(index):\n",
    "    return f'{days[index]} {months[index]}'"
   ]
  },
  {
   "cell_type": "code",
   "execution_count": 66,
   "metadata": {},
   "outputs": [],
   "source": [
    "import pandas as pd\n",
    "\n",
    "data = [min_temp, max_temp, wind_speed, pressure]\n",
    "\n",
    "cols = [build_row_cell(i) for i in range(len(days))]\n",
    "row = ('Мин. температура', 'Макс. температура', 'Скорость ветра', 'Давление')\n",
    "\n",
    "table = pd.DataFrame(data=data, index=row, columns=cols, dtype=int)"
   ]
  },
  {
   "cell_type": "code",
   "execution_count": 67,
   "metadata": {},
   "outputs": [
    {
     "data": {
      "text/html": [
       "<div>\n",
       "<style scoped>\n",
       "    .dataframe tbody tr th:only-of-type {\n",
       "        vertical-align: middle;\n",
       "    }\n",
       "\n",
       "    .dataframe tbody tr th {\n",
       "        vertical-align: top;\n",
       "    }\n",
       "\n",
       "    .dataframe thead th {\n",
       "        text-align: right;\n",
       "    }\n",
       "</style>\n",
       "<table border=\"1\" class=\"dataframe\">\n",
       "  <thead>\n",
       "    <tr style=\"text-align: right;\">\n",
       "      <th></th>\n",
       "      <th>14 марта</th>\n",
       "      <th>15 марта</th>\n",
       "      <th>16 марта</th>\n",
       "      <th>17 марта</th>\n",
       "      <th>18 марта</th>\n",
       "      <th>19 марта</th>\n",
       "      <th>20 марта</th>\n",
       "      <th>21 марта</th>\n",
       "      <th>22 марта</th>\n",
       "      <th>23 марта</th>\n",
       "    </tr>\n",
       "  </thead>\n",
       "  <tbody>\n",
       "    <tr>\n",
       "      <th>Мин. температура</th>\n",
       "      <td>-5</td>\n",
       "      <td>-13</td>\n",
       "      <td>-19</td>\n",
       "      <td>-20</td>\n",
       "      <td>-14</td>\n",
       "      <td>-9</td>\n",
       "      <td>-7</td>\n",
       "      <td>-7</td>\n",
       "      <td>-8</td>\n",
       "      <td>-7</td>\n",
       "    </tr>\n",
       "    <tr>\n",
       "      <th>Макс. температура</th>\n",
       "      <td>0</td>\n",
       "      <td>-3</td>\n",
       "      <td>-9</td>\n",
       "      <td>-11</td>\n",
       "      <td>-6</td>\n",
       "      <td>-2</td>\n",
       "      <td>-1</td>\n",
       "      <td>-3</td>\n",
       "      <td>-4</td>\n",
       "      <td>-3</td>\n",
       "    </tr>\n",
       "    <tr>\n",
       "      <th>Скорость ветра</th>\n",
       "      <td>5</td>\n",
       "      <td>4</td>\n",
       "      <td>3</td>\n",
       "      <td>2</td>\n",
       "      <td>2</td>\n",
       "      <td>2</td>\n",
       "      <td>1</td>\n",
       "      <td>2</td>\n",
       "      <td>1</td>\n",
       "      <td>1</td>\n",
       "    </tr>\n",
       "    <tr>\n",
       "      <th>Давление</th>\n",
       "      <td>741</td>\n",
       "      <td>739</td>\n",
       "      <td>744</td>\n",
       "      <td>748</td>\n",
       "      <td>750</td>\n",
       "      <td>743</td>\n",
       "      <td>743</td>\n",
       "      <td>744</td>\n",
       "      <td>743</td>\n",
       "      <td>744</td>\n",
       "    </tr>\n",
       "  </tbody>\n",
       "</table>\n",
       "</div>"
      ],
      "text/plain": [
       "                   14 марта  15 марта  16 марта  17 марта  18 марта  19 марта  \\\n",
       "Мин. температура         -5       -13       -19       -20       -14        -9   \n",
       "Макс. температура         0        -3        -9       -11        -6        -2   \n",
       "Скорость ветра            5         4         3         2         2         2   \n",
       "Давление                741       739       744       748       750       743   \n",
       "\n",
       "                   20 марта  21 марта  22 марта  23 марта  \n",
       "Мин. температура         -7        -7        -8        -7  \n",
       "Макс. температура        -1        -3        -4        -3  \n",
       "Скорость ветра            1         2         1         1  \n",
       "Давление                743       744       743       744  "
      ]
     },
     "execution_count": 67,
     "metadata": {},
     "output_type": "execute_result"
    }
   ],
   "source": [
    "table"
   ]
  },
  {
   "cell_type": "markdown",
   "metadata": {},
   "source": [
    "|                | 02.02 (пт) | 03.02 (сб) | 04.02 (вс)| 05.02 (пн) | 06.02 (вт) | 07.02 (пн) | 08.02 (ср) | 09.02 (ср) | 10.02 (сб) | 11.02 (вс)\n",
    "|----------------|-------|-------|-------|-------|-------|-------|-------|\n",
    "| минимальная температура    | -9    | -1    | -8    | -13    | -12    | -15    | -21    | -14 |-8 |-8\n",
    "| максимальная температура    | -1    | +1    | -2    | -9   | -11    | -12    | -16    |-5    |-6    |-5|\n",
    "| скорость ветра | 10    | 13    | 15    | 15   |11    | 6    | 7 | 9 | 8 |12\n",
    "| уровень осадков         | 1.35  | 8.6  | 15.5  | 6.6   | 2.7   | 2.1   | 0   | 3.2   |0.8  | 0.4"
   ]
  },
  {
   "cell_type": "markdown",
   "metadata": {},
   "source": [
    "Прогноз погоды должен состоять из следующих (или подобным им) предложений, генерируемых по шаблонам (ниже три шаблона):\n",
    "* В день1 похолодает / потеплеет на X градус (-а, -ов) по сравнению с день2\n",
    "    * *В четверг в НазваниеГорода потеплеет на 7 градусов по сравнению со средой*\n",
    "* Скорость ветра изменится на X единиц в день1 по сравнению с день2.\n",
    "    * *Скорость ветра изменится на 3 км/час в понедельник по сравнению с пятницей*\n",
    "* Уровень осадков повысится / понизится на X единиц за Y дней. \n",
    "    * *Уровень осадков понится на 3.85 мм за 7 дней*\n",
    "    * *Выпадет 10 см снега за ближайшие 7 дней * \n",
    "\n",
    "\n",
    "Вместо НазваниеГорода и дней недели подставьте название выбранного вами города и дни недели, используя фунцкии для согласования существительных с предлогами. Используйте функции для согласования числительного с существительным для согласования длительности промежутков времени и слова \"день\" и чисел  с последующими единицами измерения."
   ]
  },
  {
   "cell_type": "markdown",
   "metadata": {},
   "source": [
    "Некоторые вспомогательные функции, которые вам понадобятся: согласование существительного с числительным и приведение существительного к нужному падежу: "
   ]
  },
  {
   "cell_type": "markdown",
   "metadata": {},
   "source": [
    "Ниже представлены примеры сгенерированных предсказаний, которые включили в себя как всю извлеченную информацию, так и задействовали все описанные в примерах подходы по морфологическому анализу."
   ]
  },
  {
   "cell_type": "code",
   "execution_count": 68,
   "metadata": {},
   "outputs": [],
   "source": [
    "import pymorphy2\n",
    "morph = pymorphy2.MorphAnalyzer()"
   ]
  },
  {
   "cell_type": "code",
   "execution_count": 69,
   "metadata": {},
   "outputs": [],
   "source": [
    "city = 'Москва'"
   ]
  },
  {
   "cell_type": "code",
   "execution_count": 70,
   "metadata": {},
   "outputs": [],
   "source": [
    "def generate_preposition(prep, word):\n",
    "    if prep.lower() == word[0] and word[0] == 'с' or word[0:2] == 'вт':\n",
    "        prep += 'о'\n",
    "    return prep"
   ]
  },
  {
   "cell_type": "markdown",
   "metadata": {},
   "source": [
    ">Пример: \"В понедельник в Москве потеплеет на 1 градус по сравнению с четвергом.\""
   ]
  },
  {
   "cell_type": "code",
   "execution_count": 71,
   "metadata": {},
   "outputs": [],
   "source": [
    "def generate_advanced_temperature_sample(first_day_index, second_day_index):\n",
    "    assert (first_day_index < second_day_index)\n",
    "    ft = int((min_temp[first_day_index] + max_temp[first_day_index]) / 2)\n",
    "    st = int((min_temp[second_day_index] + max_temp[second_day_index]) / 2)\n",
    "    verb = 'похолодает' if ft > st else 'потеплеет'\n",
    "    degrees = abs(st - ft)\n",
    "    degrees_word = 'градусы'\n",
    "    correct_degrees_word = morph.parse(degrees_word)[0].make_agree_with_number(degrees).word\n",
    "    fd = morph.parse(names[first_day_index])[0].inflect({'accs'}).word\n",
    "    fp = generate_preposition('В', fd)\n",
    "    parsed_city = morph.parse(city)[0].inflect({'datv'}).word.capitalize()\n",
    "    sp = generate_preposition('в', parsed_city)\n",
    "    sd = morph.parse(names[second_day_index])[0].inflect({'ablt'}).word\n",
    "    tp = generate_preposition('с', sd)\n",
    "\n",
    "    if degrees == 0:\n",
    "        return f'{fp} {fd} {sp} {parsed_city} температура не изменится по сравнению {tp} {sd}.'\n",
    "\n",
    "    return f'{fp} {fd} {sp} {parsed_city} {verb} на {degrees} {correct_degrees_word} по сравнению {tp} {sd}.'"
   ]
  },
  {
   "cell_type": "markdown",
   "metadata": {},
   "source": [
    ">Пример: \"В четверг давление будет состовлять 741 милимметра ртутного столба.\""
   ]
  },
  {
   "cell_type": "markdown",
   "metadata": {},
   "source": [
    ">Различие в обработки дней связано с тем, что яндекс для текущего дня подставляет 'сегодня', поэтому предлог не требуется. Аналогичный разбор случая с 'завтра'"
   ]
  },
  {
   "cell_type": "code",
   "execution_count": 72,
   "metadata": {},
   "outputs": [],
   "source": [
    "def generate_simple_pressure_sample(i):\n",
    "    day = names[i]\n",
    "    if i >= 2:\n",
    "        parsed_day = morph.parse(day)[0]\n",
    "        day = generate_preposition('В', day) + ' ' + parsed_day.inflect({'accs'}).word\n",
    "    else:\n",
    "        day = day.capitalize()\n",
    "    num = pressure[i]\n",
    "    mm = morph.parse('милимметров')[0].make_agree_with_number(num).word\n",
    "    return f'{day} давление будет составлять {num} {mm} ртутного столба.'"
   ]
  },
  {
   "cell_type": "markdown",
   "metadata": {},
   "source": [
    ">Пример: \"В воскресенье скорость ветра изменится на 1 киллометр в час по сравнению с пятницей.\""
   ]
  },
  {
   "cell_type": "code",
   "execution_count": 73,
   "metadata": {},
   "outputs": [],
   "source": [
    "def generate_wind_speed_sample(fi, si):\n",
    "    assert (fi < si)\n",
    "    speed = abs(int(wind_speed[si] - wind_speed[fi]))\n",
    "\n",
    "    fprep = generate_preposition('В', names[fi])\n",
    "    sprep = generate_preposition('с', names[si])\n",
    "    fd = morph.parse(names[fi])[0].inflect({'accs'}).word\n",
    "    sd = morph.parse(names[si])[0].inflect({'ablt'}).word\n",
    "    km = morph.parse('киллометры')[0].make_agree_with_number(speed).word\n",
    "\n",
    "    return f'{fprep} {fd} скорость ветра изменится на {speed} {km} в час по сравнению {sprep} {sd}.'"
   ]
  },
  {
   "cell_type": "markdown",
   "metadata": {},
   "source": [
    ">Пример:\"В ближайшие 10 дней в Москве максимальная температура будет составлять 0 градусов.\""
   ]
  },
  {
   "cell_type": "code",
   "execution_count": 74,
   "metadata": {},
   "outputs": [],
   "source": [
    "def get_day_with_max_temp():\n",
    "    days_number = len(days)\n",
    "    day_word = morph.parse('дней')[0].make_agree_with_number(days_number).word\n",
    "    parsed_city = morph.parse(city)[0].inflect({'datv'}).word.capitalize()\n",
    "    fp = generate_preposition('в', parsed_city)\n",
    "    num = max(max_temp)\n",
    "    degree = morph.parse('градусы')[0].make_agree_with_number(num).word\n",
    "    return f'В ближайшие {days_number} {day_word} {fp} {parsed_city} максимальная температура будет составлять {num} {degree}.'"
   ]
  },
  {
   "cell_type": "code",
   "execution_count": 75,
   "metadata": {},
   "outputs": [
    {
     "data": {
      "text/plain": [
       "'В субботу в Москве потеплеет на 11 градусов по сравнению со вторником.'"
      ]
     },
     "execution_count": 75,
     "metadata": {},
     "output_type": "execute_result"
    }
   ],
   "source": [
    "generate_advanced_temperature_sample(random.randint(2, 5), random.randint(6, 9))"
   ]
  },
  {
   "cell_type": "code",
   "execution_count": 76,
   "metadata": {},
   "outputs": [
    {
     "data": {
      "text/plain": [
       "'В четверг давление будет составлять 743 милимметров ртутного столба.'"
      ]
     },
     "execution_count": 76,
     "metadata": {},
     "output_type": "execute_result"
    }
   ],
   "source": [
    "generate_simple_pressure_sample(random.randint(0, 9))"
   ]
  },
  {
   "cell_type": "code",
   "execution_count": 77,
   "metadata": {},
   "outputs": [
    {
     "data": {
      "text/plain": [
       "'В субботу скорость ветра изменится на 1 киллометр в час по сравнению со вторником.'"
      ]
     },
     "execution_count": 77,
     "metadata": {},
     "output_type": "execute_result"
    }
   ],
   "source": [
    "generate_wind_speed_sample(random.randint(2, 5), random.randint(6, 9))"
   ]
  },
  {
   "cell_type": "code",
   "execution_count": 78,
   "metadata": {},
   "outputs": [
    {
     "data": {
      "text/plain": [
       "'В ближайшие 10 дней в Москве максимальная температура будет составлять 0 градусов.'"
      ]
     },
     "execution_count": 78,
     "metadata": {},
     "output_type": "execute_result"
    }
   ],
   "source": [
    "get_day_with_max_temp()"
   ]
  },
  {
   "cell_type": "markdown",
   "metadata": {},
   "source": [
    "### 3. Ответьте на вопросы [3 балла]\n",
    "* В каких других задачах (помимо описания прогноза погоды) может понадобиться генерировать текст по шаблонам? В каких задачах может понадобиться генерировать текст об изменении числовых показателей по шаблонам?\n",
    "* Шаблоны, которые вы использовали в этом задании, имеют фиксированную структуру. Фактически, ваша задача заключалась в том, чтобы подставить в шаблон число и согласовать единицы измерения с этим числом или подставить в шаблон название города и согласовать его с предлогом. Как можно разнообразить эти шаблоны? Как знание синтаксической структуры предложения может помочь в этой задаче? "
   ]
  },
  {
   "cell_type": "markdown",
   "metadata": {},
   "source": [
    ">На самом деле даже такой простой и плохо масштабируемый подход по предоставлению информации находит довольно-таки много применений в реальной жизни. Можно легко структурировать нужный кусочек информации среди огромного потока данных. Например, отслеживать значения курса валют или ценных бумаг \"За {день} {валюта} выросла/подешевела на {x} {рублей}\". Вечером, после работы, можно посмотреть на сгенерированную сводку спортивных новостей. Как раз актуально в предверии чемпионата мира по футболу: \"{Сборная1} одержала волевую победу/допустила досадное поражение {над/''} {Сборной2} со счетом{x}:{y}\". А в конце месяца всегда полезно получить информацию об итоговых семейных тратах: \"К сожалению, самым прожорливым в этом месяце оказался {Алексей}, и его траты составили {x} рублей'. Можно даже использовать данный подход для диагностики работоспособности жизненно необходимых систем, чтобы в случае возникновения критической ситуации быстро получить краткое описание причин проблемы: \"На {x} этаже вышел из строя {автомат с кофе} по причине {отсутсвия молока для капучино}. Просьба немедленно устранить неисправность для восстановления работоспособности сотрудников\". Не стоит забывать и про работу с официальными бумагами, где в большинстве случаев существует жесткий шаблон, который очень просто заполняется: \"Заявлению начальнику штаба {Петрову А.А.} от студента {Иванова И.И.} с просьбой {записать в волонтеры}\". "
   ]
  },
  {
   "cell_type": "markdown",
   "metadata": {},
   "source": [
    ">В качестве разнообразия можно вместо простых предложений использовать составные, попутно добавляя обстоятельства, например причастный оборот. По факту мы просто объединяем несколько шаблонов вместе, тем самым порождая все больше новых конструкций. "
   ]
  },
  {
   "cell_type": "markdown",
   "metadata": {},
   "source": [
    "## Сдача домашнего задания\n",
    "\n",
    "Дедлайн сдачи домашнего задания:  23:59 15.03.2018. Каждый день просрочки дедлайна штрафуется -1 баллом.\n",
    "\n",
    "Результаты домашнего задания должны быть оформлены в виде отчета в jupyter notebook.\n",
    "Нормальный отчёт должен включать в себя:\n",
    "* Краткую постановку задачи и формулировку задания\n",
    "* Описание минимума необходимой теории и/или описание используемых инструментов \n",
    "* Подробный пошаговый рассказ о проделанной работе\n",
    "* **Аккуратно** оформленные результаты\n",
    "* Подробные и внятные ответы на все заданные вопросы \n",
    "* Внятные выводы – не стоит относится к домашнему заданию как к последовательности сугубо технических шагов, а стоит относится скорее как к небольшому практическому исследованию, у которого есть своя цель и свое назначение.\n",
    "\n",
    "Задание выполняется в группе до трех человек. Не забудьте перечислить фамилии всех, кто работал над домашнем задании, в jupyter notebook.  \n",
    "\n",
    "В случае использования какого-либо строннего источника информации обязательно дайте на него ссылку. Плагиат наказывается нулём баллов за задание.\n",
    "\n",
    "При возникновении проблем с выполнением задания обращайтесь с вопросами к преподавателю по семинарским занятиям – Антону Емельянову. \n",
    "\n",
    "Небрежное оформление отчета существенно отразится на итоговой оценке. Весь код из отчёта должен быть воспроизводимым, если для этого нужны какие-то дополнительные действия, установленные модули и т.п. — всё это должно быть прописано в отчете в явном виде.\n",
    "\n",
    "Сдача отчетов осуществляется через систему AnyTask.\n"
   ]
  },
  {
   "cell_type": "markdown",
   "metadata": {},
   "source": [
    "### Как сдать домашнее задание в AnyTask\n",
    "* Зарегистрируйтесь в системе AnyTask по ссылке http://anytask.org/accounts/register . Регистрация обязательна для всех!\n",
    "* Подтвердите регистрацию по e-mail.\n",
    "* Зайдите в свой профиль, нажмите “Активация инвайтов на курсы” и введите инвайт 0pobDsj (для всех групп). \n",
    "\n",
    "\n",
    " У вас появится курс “МФТИ > Автоматическая обработка текстов (2018)” в разделе “Посещает курсы”.\n",
    "* Перейдите по ссылке “МФТИ > Автоматическая обработка текстов (2018)” и нажмите кнопку “Сдать”. \n",
    "* У вас откроется условие задачи и будут доступны различные поля, в частности, НИЖЕ условия задачи будет поле ввода, в которое вы сможете вписать какой-то комментарий, и сможете прикрепить файл. Сделайте это.\n",
    "* Домашнее задание лучше всего сдавать в форматах IPYNB.\n",
    "* Оценку вы получите также в системе AnyTask. За своей успеваемостью можете следить в разделе “Ведомость”, а также можете прокомментировать что-то в каждом вашем домашнем задании, зайдя на ее страничку (ячейки в табличке на страничке “Ведомость” кликабельны и ведут на ваш submission домашки).\n",
    "\n",
    "(**ВАЖНО**) Если домашнее задание вы делали в группе, то в AnyTask домашнее сдает *один* участник группы, но заргестрироваться в AnyTask обязательно всем – так мы сможем проставить вам оценки в ведомость в AnyTask.\n",
    "\n",
    "Ссылка на курс в AnyTask: http://anytask.org/course/325"
   ]
  }
 ],
 "metadata": {
  "kernelspec": {
   "display_name": "Python 3",
   "language": "python",
   "name": "python3"
  },
  "language_info": {
   "codemirror_mode": {
    "name": "ipython",
    "version": 3
   },
   "file_extension": ".py",
   "mimetype": "text/x-python",
   "name": "python",
   "nbconvert_exporter": "python",
   "pygments_lexer": "ipython3",
   "version": "3.6.4"
  }
 },
 "nbformat": 4,
 "nbformat_minor": 2
}
