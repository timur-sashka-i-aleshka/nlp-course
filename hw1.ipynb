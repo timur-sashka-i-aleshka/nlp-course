{
 "cells": [
  {
   "cell_type": "markdown",
   "metadata": {},
   "source": [
    "# Автоматическая обработка текстов \n",
    "## Домашнее задание 1 [10 баллов] до 23:59 15.03.2018\n",
    "\n",
    "В этом домашнем задании вам потребуется написать генератор описания прогноза погоды на следующую неделю в каком-нибудь городе. Домашнее задание состоит из трех частей:\n",
    "1. Скачивание данных о состоянии погоды в городе \n",
    "2. Генерация описания прогноза\n",
    "3. Творческая часть\n",
    "\n",
    "Все три части можно считать независимыми – вы можете сделать одну или две из них, однако мы настоятельно советуем выполнить все три. Все инструкции по выполнению домашнего задания – ниже. \n",
    "\n"
   ]
  },
  {
   "cell_type": "markdown",
   "metadata": {},
   "source": [
    "### 1. Сбор данных [3 балла]\n",
    "\n",
    "\n",
    "Пример: прогноз на 10 ближайших дней в Москве – https://www.gismeteo.ru/weather-moscow-4368/10-days/\n",
    "\n",
    "Используя известные вам библиотеки для работы с протоколом http и html кодом, извлеките прогноз на ближайшие 10 дней, начиная со дня, когда вы начали делать домашнее задание, с любого сервиса с прогнозом погоды или используя его API.\n",
    "Примеры сервисов:\n",
    "* gismeteo.ru, https://www.gismeteo.ru/api/ – Gismeteo, API Gismeteo \n",
    "* https://tech.yandex.ru/weather/ – API Yandex.Погоды\n",
    "* https://sinoptik.com.ru – Sinoptik\n",
    "* любой другой \n",
    "\n",
    "Резльтатом сбора данных должна быть таблица со следующими строками:\n",
    "* минимальная температура\n",
    "* максимальная температура\n",
    "* скорость ветра\n",
    "* уровень осадков \n",
    "\n",
    "В столбцах таблицы должны быть даты и дни недели.  Пример итоговой таблицы вы найдете в следующей части задания. "
   ]
  },
  {
   "cell_type": "markdown",
   "metadata": {},
   "source": [
    ">Решено было работать с сервисом погоды от Яндекса. В качестве инструмента по извлечению данных использовалась библиотека BeautifulSoup для парсинга html страниц. Мы посчитали, что данный способ получения информации о погоде наиболее универсальный, позволяет не привязываться к фиксированному api и при желании быстро изменить место получения необходимых данных."
   ]
  },
  {
   "cell_type": "code",
   "execution_count": 124,
   "metadata": {},
   "outputs": [],
   "source": [
    "import requests\n",
    "from bs4 import BeautifulSoup\n",
    "import random"
   ]
  },
  {
   "cell_type": "markdown",
   "metadata": {},
   "source": [
    ">Изначально загрузим саму html страницу и извлечем из нее дни даты."
   ]
  },
  {
   "cell_type": "code",
   "execution_count": 125,
   "metadata": {},
   "outputs": [],
   "source": [
    "def get_nodes_text(soup, node_type, node_name):\n",
    "    return list(map(lambda x: x.text, soup.find_all(node_type, node_name)))"
   ]
  },
  {
   "cell_type": "code",
   "execution_count": 126,
   "metadata": {},
   "outputs": [],
   "source": [
    "site_content = requests.get('https://yandex.ru/pogoda/moscow/details')\n",
    "soup = BeautifulSoup(site_content.text, 'html.parser')"
   ]
  },
  {
   "cell_type": "code",
   "execution_count": 127,
   "metadata": {},
   "outputs": [
    {
     "name": "stdout",
     "output_type": "stream",
     "text": [
      "['сегодня', 'завтра', 'суббота', 'воскресенье', 'понедельник', 'вторник', 'среда', 'четверг', 'пятница', 'суббота'] ['15', '16', '17', '18', '19', '20', '21', '22', '23', '24'] ['марта', 'марта', 'марта', 'марта', 'марта', 'марта', 'марта', 'марта', 'марта', 'марта']\n"
     ]
    }
   ],
   "source": [
    "names = get_nodes_text(soup, 'span', 'forecast-details__day-name')\n",
    "days = get_nodes_text(soup, 'strong', 'forecast-details__day-number')\n",
    "months = get_nodes_text(soup, 'span', 'forecast-details__day-month')\n",
    "print(names, days, months)"
   ]
  },
  {
   "cell_type": "markdown",
   "metadata": {},
   "source": [
    ">Теперь можно и о погоде подумать."
   ]
  },
  {
   "cell_type": "code",
   "execution_count": 128,
   "metadata": {},
   "outputs": [],
   "source": [
    "full_information_list = soup.find_all('tbody', 'weather-table__body')"
   ]
  },
  {
   "cell_type": "markdown",
   "metadata": {},
   "source": [
    ">В процессе получения значения температур мы столкнулись с проблемой, которая встречается при работе со многими сервисами от Яндекса, а именно разными кодировками. Просто так переконвертировать значения не вышло, пришлось применить не совсем красивый и удобный подход по обработки целых чисел."
   ]
  },
  {
   "cell_type": "code",
   "execution_count": 129,
   "metadata": {},
   "outputs": [],
   "source": [
    "def get_temperature_as_int(temperature):\n",
    "    #if temperature is zero\n",
    "    if len(temperature) == 1:\n",
    "        return int(temperature)\n",
    "    \n",
    "    value = int(temperature[1:])\n",
    "    if temperature[0] == '−':\n",
    "        value = value * -1\n",
    "    return value"
   ]
  },
  {
   "cell_type": "code",
   "execution_count": 130,
   "metadata": {},
   "outputs": [],
   "source": [
    "def get_temperatures(tag):\n",
    "    temp_spans = tag.find_all('td', 'weather-table__body-cell_type_daypart')\n",
    "    temperatures = []\n",
    "    for temp in temp_spans:\n",
    "        temperatures.extend(get_nodes_text(temp, 'span', 'temp__value'))\n",
    "    return list(map(get_temperature_as_int, temperatures))"
   ]
  },
  {
   "cell_type": "code",
   "execution_count": 134,
   "metadata": {},
   "outputs": [],
   "source": [
    "def get_wind_speed(tag):\n",
    "    values = get_nodes_text(tag, 'span', 'wind-speed')\n",
    "    values = list(map(lambda x: x.replace(',', '.'), values))\n",
    "    values = list(map(float, values))\n",
    "    return int(sum(values) / len(values))"
   ]
  },
  {
   "cell_type": "code",
   "execution_count": 135,
   "metadata": {},
   "outputs": [],
   "source": [
    "def get_pressure(tag):\n",
    "    values = get_nodes_text(tag, 'td', 'weather-table__body-cell_type_air-pressure')\n",
    "    values = list(map(int, values))\n",
    "    return int(sum(values) / len(values))"
   ]
  },
  {
   "cell_type": "code",
   "execution_count": 136,
   "metadata": {},
   "outputs": [
    {
     "name": "stdout",
     "output_type": "stream",
     "text": [
      "[-13, -21, -21, -21, -12, -7, -11, -11, -9, -4] [-2, -9, -10, -6, -5, 0, -3, -5, -2, 0] [4, 3, 3, 2, 2, 2, 2, 2, 3, 3] [739, 745, 748, 749, 743, 742, 745, 747, 744, 741]\n"
     ]
    }
   ],
   "source": [
    "min_temp = list(map(min, map(get_temperatures, full_information_list)))\n",
    "max_temp = list(map(max, map(get_temperatures, full_information_list)))\n",
    "wind_speed = list(map(get_wind_speed, full_information_list))\n",
    "pressure = list(map(get_pressure, full_information_list))\n",
    "print(min_temp, max_temp, wind_speed, pressure)"
   ]
  },
  {
   "cell_type": "markdown",
   "metadata": {},
   "source": [
    "### 2. Генератор описания прогноза погоды [4 балла]\n",
    "\n",
    "Если у вас не получилось извлечь прогноз погоды в предыдущей части задания, воспользуйтесь таблицей ниже.\n",
    "В ней приведен прогноз четырех показателей на первые 10 дней февраля в Москве – минимальная и максимальная температура, скорость ветра и уровень осадков. "
   ]
  },
  {
   "cell_type": "markdown",
   "metadata": {},
   "source": [
    ">У нас все же получилось добыть прогноз погоды, но, за неимением данных об уровне осадков, пришлось использовать альтернативную информацию, а именно показания Давления."
   ]
  },
  {
   "cell_type": "code",
   "execution_count": 137,
   "metadata": {},
   "outputs": [],
   "source": [
    "def build_row_cell(index):\n",
    "    return f'{days[index]} {months[index]}'"
   ]
  },
  {
   "cell_type": "code",
   "execution_count": 138,
   "metadata": {},
   "outputs": [],
   "source": [
    "import pandas as pd\n",
    "\n",
    "data = [min_temp, max_temp, wind_speed, pressure]\n",
    "\n",
    "cols = [build_row_cell(i) for i in range(len(days))]\n",
    "row = ('Мин. температура', 'Макс. температура', 'Скорость ветра', 'Давление')\n",
    "\n",
    "table = pd.DataFrame(data=data, index=row, columns=cols, dtype=int)"
   ]
  },
  {
   "cell_type": "code",
   "execution_count": 139,
   "metadata": {},
   "outputs": [
    {
     "data": {
      "text/html": [
       "<div>\n",
       "<style scoped>\n",
       "    .dataframe tbody tr th:only-of-type {\n",
       "        vertical-align: middle;\n",
       "    }\n",
       "\n",
       "    .dataframe tbody tr th {\n",
       "        vertical-align: top;\n",
       "    }\n",
       "\n",
       "    .dataframe thead th {\n",
       "        text-align: right;\n",
       "    }\n",
       "</style>\n",
       "<table border=\"1\" class=\"dataframe\">\n",
       "  <thead>\n",
       "    <tr style=\"text-align: right;\">\n",
       "      <th></th>\n",
       "      <th>15 марта</th>\n",
       "      <th>16 марта</th>\n",
       "      <th>17 марта</th>\n",
       "      <th>18 марта</th>\n",
       "      <th>19 марта</th>\n",
       "      <th>20 марта</th>\n",
       "      <th>21 марта</th>\n",
       "      <th>22 марта</th>\n",
       "      <th>23 марта</th>\n",
       "      <th>24 марта</th>\n",
       "    </tr>\n",
       "  </thead>\n",
       "  <tbody>\n",
       "    <tr>\n",
       "      <th>Мин. температура</th>\n",
       "      <td>-13</td>\n",
       "      <td>-21</td>\n",
       "      <td>-21</td>\n",
       "      <td>-21</td>\n",
       "      <td>-12</td>\n",
       "      <td>-7</td>\n",
       "      <td>-11</td>\n",
       "      <td>-11</td>\n",
       "      <td>-9</td>\n",
       "      <td>-4</td>\n",
       "    </tr>\n",
       "    <tr>\n",
       "      <th>Макс. температура</th>\n",
       "      <td>-2</td>\n",
       "      <td>-9</td>\n",
       "      <td>-10</td>\n",
       "      <td>-6</td>\n",
       "      <td>-5</td>\n",
       "      <td>0</td>\n",
       "      <td>-3</td>\n",
       "      <td>-5</td>\n",
       "      <td>-2</td>\n",
       "      <td>0</td>\n",
       "    </tr>\n",
       "    <tr>\n",
       "      <th>Скорость ветра</th>\n",
       "      <td>4</td>\n",
       "      <td>3</td>\n",
       "      <td>3</td>\n",
       "      <td>2</td>\n",
       "      <td>2</td>\n",
       "      <td>2</td>\n",
       "      <td>2</td>\n",
       "      <td>2</td>\n",
       "      <td>3</td>\n",
       "      <td>3</td>\n",
       "    </tr>\n",
       "    <tr>\n",
       "      <th>Давление</th>\n",
       "      <td>739</td>\n",
       "      <td>745</td>\n",
       "      <td>748</td>\n",
       "      <td>749</td>\n",
       "      <td>743</td>\n",
       "      <td>742</td>\n",
       "      <td>745</td>\n",
       "      <td>747</td>\n",
       "      <td>744</td>\n",
       "      <td>741</td>\n",
       "    </tr>\n",
       "  </tbody>\n",
       "</table>\n",
       "</div>"
      ],
      "text/plain": [
       "                   15 марта  16 марта  17 марта  18 марта  19 марта  20 марта  \\\n",
       "Мин. температура        -13       -21       -21       -21       -12        -7   \n",
       "Макс. температура        -2        -9       -10        -6        -5         0   \n",
       "Скорость ветра            4         3         3         2         2         2   \n",
       "Давление                739       745       748       749       743       742   \n",
       "\n",
       "                   21 марта  22 марта  23 марта  24 марта  \n",
       "Мин. температура        -11       -11        -9        -4  \n",
       "Макс. температура        -3        -5        -2         0  \n",
       "Скорость ветра            2         2         3         3  \n",
       "Давление                745       747       744       741  "
      ]
     },
     "execution_count": 139,
     "metadata": {},
     "output_type": "execute_result"
    }
   ],
   "source": [
    "table"
   ]
  },
  {
   "cell_type": "markdown",
   "metadata": {},
   "source": [
    "|                | 02.02 (пт) | 03.02 (сб) | 04.02 (вс)| 05.02 (пн) | 06.02 (вт) | 07.02 (пн) | 08.02 (ср) | 09.02 (ср) | 10.02 (сб) | 11.02 (вс)\n",
    "|----------------|-------|-------|-------|-------|-------|-------|-------|\n",
    "| минимальная температура    | -9    | -1    | -8    | -13    | -12    | -15    | -21    | -14 |-8 |-8\n",
    "| максимальная температура    | -1    | +1    | -2    | -9   | -11    | -12    | -16    |-5    |-6    |-5|\n",
    "| скорость ветра | 10    | 13    | 15    | 15   |11    | 6    | 7 | 9 | 8 |12\n",
    "| уровень осадков         | 1.35  | 8.6  | 15.5  | 6.6   | 2.7   | 2.1   | 0   | 3.2   |0.8  | 0.4"
   ]
  },
  {
   "cell_type": "markdown",
   "metadata": {},
   "source": [
    "Прогноз погоды должен состоять из следующих (или подобным им) предложений, генерируемых по шаблонам (ниже три шаблона):\n",
    "* В день1 похолодает / потеплеет на X градус (-а, -ов) по сравнению с день2\n",
    "    * *В четверг в НазваниеГорода потеплеет на 7 градусов по сравнению со средой*\n",
    "* Скорость ветра изменится на X единиц в день1 по сравнению с день2.\n",
    "    * *Скорость ветра изменится на 3 км/час в понедельник по сравнению с пятницей*\n",
    "* Уровень осадков повысится / понизится на X единиц за Y дней. \n",
    "    * *Уровень осадков понится на 3.85 мм за 7 дней*\n",
    "    * *Выпадет 10 см снега за ближайшие 7 дней * \n",
    "\n",
    "\n",
    "Вместо НазваниеГорода и дней недели подставьте название выбранного вами города и дни недели, используя фунцкии для согласования существительных с предлогами. Используйте функции для согласования числительного с существительным для согласования длительности промежутков времени и слова \"день\" и чисел  с последующими единицами измерения."
   ]
  },
  {
   "cell_type": "markdown",
   "metadata": {},
   "source": [
    "Некоторые вспомогательные функции, которые вам понадобятся: согласование существительного с числительным и приведение существительного к нужному падежу: "
   ]
  },
  {
   "cell_type": "markdown",
   "metadata": {},
   "source": [
    "Ниже представлены примеры сгенерированных предсказаний, которые включили в себя как всю извлеченную информацию, так и задействовали все описанные в примерах подходы по морфологическому анализу."
   ]
  },
  {
   "cell_type": "code",
   "execution_count": 140,
   "metadata": {},
   "outputs": [],
   "source": [
    "import pymorphy2\n",
    "morph = pymorphy2.MorphAnalyzer()"
   ]
  },
  {
   "cell_type": "code",
   "execution_count": 141,
   "metadata": {},
   "outputs": [],
   "source": [
    "city = 'Москва'"
   ]
  },
  {
   "cell_type": "code",
   "execution_count": 142,
   "metadata": {},
   "outputs": [],
   "source": [
    "def generate_preposition(prep, word):\n",
    "    if word[0:2] == 'вт':\n",
    "        prep += 'о'\n",
    "    return prep"
   ]
  },
  {
   "cell_type": "markdown",
   "metadata": {},
   "source": [
    ">Хотим получить: \"В субботу (24 марта) в Москве потеплеет на 6 градусов по сравнению с понедельником (19 марта).\""
   ]
  },
  {
   "cell_type": "code",
   "execution_count": 143,
   "metadata": {},
   "outputs": [],
   "source": [
    "def generate_advanced_temperature_sample(first_day_index, second_day_index):\n",
    "    assert (first_day_index < second_day_index)\n",
    "    assert (first_day_index < len(names) and second_day_index < len(names))\n",
    "    # Can't use this template with words 'сегодня' and 'завтра'\n",
    "    assert (first_day_index > 1)\n",
    "    \n",
    "    first_temperature = int((min_temp[first_day_index] + max_temp[first_day_index]) / 2)\n",
    "    second_temperature = int((min_temp[second_day_index] + max_temp[second_day_index]) / 2)\n",
    "    verb = 'похолодает' if first_temperature > second_temperature else 'потеплеет'\n",
    "    degrees = abs(first_temperature - second_temperature)\n",
    "    \n",
    "    degrees_word = 'градусы'\n",
    "    correct_degrees_word = morph.parse(degrees_word)[0].make_agree_with_number(degrees).word\n",
    "    \n",
    "    first_day = morph.parse(names[first_day_index])[0].inflect({'ablt'}).word\n",
    "    first_day_prep = generate_preposition('с', first_day)\n",
    "    first_day_date = ' '.join([days[first_day_index], months[first_day_index]])\n",
    "    \n",
    "    parsed_city = morph.parse(city)[0].inflect({'datv'}).word.capitalize()\n",
    "    city_prep = generate_preposition('в', parsed_city)\n",
    "    \n",
    "    second_day = morph.parse(names[second_day_index])[0].inflect({'accs'}).word\n",
    "    second_day_prep = generate_preposition('В', second_day)\n",
    "    second_day_date = ' '.join([days[second_day_index], months[second_day_index]])\n",
    "    \n",
    "    action = 'температура не изменится' if degrees == 0 else  f'{verb} на {degrees} {correct_degrees_word}'\n",
    "   \n",
    "    return f'{second_day_prep} {second_day} ({second_day_date}) {city_prep} {parsed_city} {action} ' \\\n",
    "            f'по сравнению {first_day_prep} {first_day} ({first_day_date}).'"
   ]
  },
  {
   "cell_type": "markdown",
   "metadata": {},
   "source": [
    ">Хотим получить: \"В четверг давление будет состовлять 741 милимметра ртутного столба.\""
   ]
  },
  {
   "cell_type": "markdown",
   "metadata": {},
   "source": [
    ">Различие в обработки дней связано с тем, что яндекс для текущего дня подставляет 'сегодня', поэтому предлог не требуется. Аналогичный разбор случая с 'завтра'."
   ]
  },
  {
   "cell_type": "code",
   "execution_count": 144,
   "metadata": {},
   "outputs": [],
   "source": [
    "def generate_simple_pressure_sample(i):\n",
    "    assert (i < len(names))\n",
    "    day = names[i]\n",
    "    if i >= 2:\n",
    "        parsed_day = morph.parse(day)[0]\n",
    "        day = ' '.join([generate_preposition('В', day), parsed_day.inflect({'accs'}).word])\n",
    "    else:\n",
    "        day = day.capitalize()\n",
    "    num = pressure[i]\n",
    "    mm = morph.parse('милимметров')[0].make_agree_with_number(num).word\n",
    "    return f'{day} давление будет составлять {num} {mm} ртутного столба.'"
   ]
  },
  {
   "cell_type": "markdown",
   "metadata": {},
   "source": [
    ">Хотим получить: \"В субботу (24 марта) скорость ветра изменится на 1 киллометр в час по сравнению с понедельником (19 марта).\""
   ]
  },
  {
   "cell_type": "code",
   "execution_count": 145,
   "metadata": {},
   "outputs": [],
   "source": [
    "def generate_wind_speed_sample(fi, si):\n",
    "    assert (fi < si)\n",
    "    assert (fi < si)\n",
    "    assert (fi < len(names) and si < len(names))\n",
    "    # Can't use this template with words 'сегодня' and 'завтра'\n",
    "    assert (fi > 1)\n",
    "    \n",
    "    speed = abs(int(wind_speed[si] - wind_speed[fi]))\n",
    "    \n",
    "    first_day = morph.parse(names[fi])[0].inflect({'ablt'}).word\n",
    "    first_day_prep = generate_preposition('с', first_day)\n",
    "    first_day_date = ' '.join([days[fi], months[fi]])\n",
    "    \n",
    "    second_day = morph.parse(names[si])[0].inflect({'accs'}).word\n",
    "    second_day_prep = generate_preposition('В', second_day)\n",
    "    second_day_date = ' '.join([days[si], months[si]])\n",
    "    \n",
    "    km = morph.parse('киллометры')[0].make_agree_with_number(speed).word\n",
    "\n",
    "    return f'{second_day_prep} {second_day} ({second_day_date}) скорость ветра изменится на ' \\\n",
    "        f'{speed} {km} в час по сравнению {first_day_prep} {first_day} ({first_day_date}).'"
   ]
  },
  {
   "cell_type": "markdown",
   "metadata": {},
   "source": [
    ">Хотим получить: \"В ближайшие 10 дней в Москве максимальная температура будет составлять 0 градусов.\""
   ]
  },
  {
   "cell_type": "code",
   "execution_count": 146,
   "metadata": {},
   "outputs": [],
   "source": [
    "def generate_max_temp():\n",
    "    days_number = len(days)\n",
    "    day_word = morph.parse('дней')[0].make_agree_with_number(days_number).word\n",
    "    \n",
    "    parsed_city = morph.parse(city)[0].inflect({'datv'}).word.capitalize()\n",
    "    city_prep = generate_preposition('в', parsed_city)\n",
    "    \n",
    "    num = max(max_temp)\n",
    "    degree = morph.parse('градусы')[0].make_agree_with_number(num).word\n",
    "    \n",
    "    return f'В ближайшие {days_number} {day_word} {city_prep} {parsed_city} ' \\\n",
    "        f'максимальная температура будет составлять {num} {degree}.'"
   ]
  },
  {
   "cell_type": "code",
   "execution_count": 147,
   "metadata": {},
   "outputs": [
    {
     "data": {
      "text/plain": [
       "'В субботу (24 марта) в Москве потеплеет на 6 градусов по сравнению с понедельником (19 марта).'"
      ]
     },
     "execution_count": 147,
     "metadata": {},
     "output_type": "execute_result"
    }
   ],
   "source": [
    "generate_advanced_temperature_sample(random.randint(2, 5), random.randint(6, 9))"
   ]
  },
  {
   "cell_type": "code",
   "execution_count": 148,
   "metadata": {},
   "outputs": [
    {
     "data": {
      "text/plain": [
       "'Сегодня давление будет составлять 739 милимметров ртутного столба.'"
      ]
     },
     "execution_count": 148,
     "metadata": {},
     "output_type": "execute_result"
    }
   ],
   "source": [
    "generate_simple_pressure_sample(random.randint(0, 9))"
   ]
  },
  {
   "cell_type": "code",
   "execution_count": 151,
   "metadata": {},
   "outputs": [
    {
     "data": {
      "text/plain": [
       "'В субботу (24 марта) скорость ветра изменится на 1 киллометр в час по сравнению с понедельником (19 марта).'"
      ]
     },
     "execution_count": 151,
     "metadata": {},
     "output_type": "execute_result"
    }
   ],
   "source": [
    "generate_wind_speed_sample(random.randint(2, 5), random.randint(6, 9))"
   ]
  },
  {
   "cell_type": "code",
   "execution_count": 150,
   "metadata": {},
   "outputs": [
    {
     "data": {
      "text/plain": [
       "'В ближайшие 10 дней в Москве максимальная температура будет составлять 0 градусов.'"
      ]
     },
     "execution_count": 150,
     "metadata": {},
     "output_type": "execute_result"
    }
   ],
   "source": [
    "generate_max_temp()"
   ]
  },
  {
   "cell_type": "markdown",
   "metadata": {},
   "source": [
    "### 3. Ответьте на вопросы [3 балла]\n",
    "* В каких других задачах (помимо описания прогноза погоды) может понадобиться генерировать текст по шаблонам? В каких задачах может понадобиться генерировать текст об изменении числовых показателей по шаблонам?\n",
    "* Шаблоны, которые вы использовали в этом задании, имеют фиксированную структуру. Фактически, ваша задача заключалась в том, чтобы подставить в шаблон число и согласовать единицы измерения с этим числом или подставить в шаблон название города и согласовать его с предлогом. Как можно разнообразить эти шаблоны? Как знание синтаксической структуры предложения может помочь в этой задаче? "
   ]
  },
  {
   "cell_type": "markdown",
   "metadata": {},
   "source": [
    ">На самом деле даже такой простой и плохо масштабируемый подход по предоставлению информации находит довольно-таки много применений в реальной жизни. Можно легко структурировать нужный кусочек информации среди огромного потока данных. Например, отслеживать значения курса валют или ценных бумаг \"За {день} {валюта} выросла/подешевела на {x} {рублей}\". Вечером, после работы, можно посмотреть на сгенерированную сводку спортивных новостей. Как раз актуально в предверии чемпионата мира по футболу: \"{Сборная1} одержала волевую победу/допустила досадное поражение {над/''} {Сборной2} со счетом{x}:{y}\". А в конце месяца всегда полезно получить информацию об итоговых семейных тратах: \"К сожалению, самым прожорливым в этом месяце оказался {Алексей}, и его траты составили {x} рублей'. Можно даже использовать данный подход для диагностики работоспособности жизненно необходимых систем, чтобы в случае возникновения критической ситуации быстро получить краткое описание причин проблемы: \"На {x} этаже вышел из строя {автомат с кофе} по причине {отсутсвия молока для капучино}. Просьба немедленно устранить неисправность для восстановления работоспособности сотрудников\". Не стоит забывать и про работу с официальными бумагами, где в большинстве случаев существует жесткий шаблон, который очень просто заполняется: \"Заявлению начальнику штаба {Петрову А.А.} от студента {Иванова И.И.} с просьбой {записать в волонтеры}\". "
   ]
  },
  {
   "cell_type": "markdown",
   "metadata": {},
   "source": [
    ">В качестве разнообразия можно вместо простых предложений использовать составные, попутно добавляя обстоятельства, например причастные и деепричастные обороты. Можно добавить вводные слова, либо фразы, добавляющие уважительную окраску предложению. По факту мы просто объединяем несколько шаблонов вместе, тем самым порождая все больше новых конструкций. Соответственно следующий шагом напрашивается создать небольшую базу шаблонов для каждой части предложения. При генерации нового ответа можно случайно выбирать отдельные \"модули\" и согласовывать их между собой."
   ]
  },
  {
   "cell_type": "markdown",
   "metadata": {},
   "source": [
    "## Сдача домашнего задания\n",
    "\n",
    "Дедлайн сдачи домашнего задания:  23:59 15.03.2018. Каждый день просрочки дедлайна штрафуется -1 баллом.\n",
    "\n",
    "Результаты домашнего задания должны быть оформлены в виде отчета в jupyter notebook.\n",
    "Нормальный отчёт должен включать в себя:\n",
    "* Краткую постановку задачи и формулировку задания\n",
    "* Описание минимума необходимой теории и/или описание используемых инструментов \n",
    "* Подробный пошаговый рассказ о проделанной работе\n",
    "* **Аккуратно** оформленные результаты\n",
    "* Подробные и внятные ответы на все заданные вопросы \n",
    "* Внятные выводы – не стоит относится к домашнему заданию как к последовательности сугубо технических шагов, а стоит относится скорее как к небольшому практическому исследованию, у которого есть своя цель и свое назначение.\n",
    "\n",
    "Задание выполняется в группе до трех человек. Не забудьте перечислить фамилии всех, кто работал над домашнем задании, в jupyter notebook.  \n",
    "\n",
    "В случае использования какого-либо строннего источника информации обязательно дайте на него ссылку. Плагиат наказывается нулём баллов за задание.\n",
    "\n",
    "При возникновении проблем с выполнением задания обращайтесь с вопросами к преподавателю по семинарским занятиям – Антону Емельянову. \n",
    "\n",
    "Небрежное оформление отчета существенно отразится на итоговой оценке. Весь код из отчёта должен быть воспроизводимым, если для этого нужны какие-то дополнительные действия, установленные модули и т.п. — всё это должно быть прописано в отчете в явном виде.\n",
    "\n",
    "Сдача отчетов осуществляется через систему AnyTask.\n"
   ]
  },
  {
   "cell_type": "markdown",
   "metadata": {},
   "source": [
    "### Как сдать домашнее задание в AnyTask\n",
    "* Зарегистрируйтесь в системе AnyTask по ссылке http://anytask.org/accounts/register . Регистрация обязательна для всех!\n",
    "* Подтвердите регистрацию по e-mail.\n",
    "* Зайдите в свой профиль, нажмите “Активация инвайтов на курсы” и введите инвайт 0pobDsj (для всех групп). \n",
    "\n",
    "\n",
    " У вас появится курс “МФТИ > Автоматическая обработка текстов (2018)” в разделе “Посещает курсы”.\n",
    "* Перейдите по ссылке “МФТИ > Автоматическая обработка текстов (2018)” и нажмите кнопку “Сдать”. \n",
    "* У вас откроется условие задачи и будут доступны различные поля, в частности, НИЖЕ условия задачи будет поле ввода, в которое вы сможете вписать какой-то комментарий, и сможете прикрепить файл. Сделайте это.\n",
    "* Домашнее задание лучше всего сдавать в форматах IPYNB.\n",
    "* Оценку вы получите также в системе AnyTask. За своей успеваемостью можете следить в разделе “Ведомость”, а также можете прокомментировать что-то в каждом вашем домашнем задании, зайдя на ее страничку (ячейки в табличке на страничке “Ведомость” кликабельны и ведут на ваш submission домашки).\n",
    "\n",
    "(**ВАЖНО**) Если домашнее задание вы делали в группе, то в AnyTask домашнее сдает *один* участник группы, но заргестрироваться в AnyTask обязательно всем – так мы сможем проставить вам оценки в ведомость в AnyTask.\n",
    "\n",
    "Ссылка на курс в AnyTask: http://anytask.org/course/325"
   ]
  }
 ],
 "metadata": {
  "kernelspec": {
   "display_name": "Python 3",
   "language": "python",
   "name": "python3"
  },
  "language_info": {
   "codemirror_mode": {
    "name": "ipython",
    "version": 3
   },
   "file_extension": ".py",
   "mimetype": "text/x-python",
   "name": "python",
   "nbconvert_exporter": "python",
   "pygments_lexer": "ipython3",
   "version": "3.6.4"
  }
 },
 "nbformat": 4,
 "nbformat_minor": 2
}
